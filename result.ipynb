{
 "cells": [
  {
   "cell_type": "code",
   "execution_count": 1,
   "metadata": {},
   "outputs": [
    {
     "name": "stdout",
     "output_type": "stream",
     "text": [
      "rrc : pt laptop nan\n",
      "rrc : pt rest nan\n",
      "ae : pt laptop nan\n",
      "ae : pt rest nan\n",
      "asc : pt laptop nan\n",
      "asc : pt rest metric 0 65.53\n",
      "asc : pt rest metric 1 64.54\n"
     ]
    },
    {
     "name": "stderr",
     "output_type": "stream",
     "text": [
      "eval/eval.ipynb:28: RuntimeWarning: Mean of empty slice.\n",
      "  \"                    OUTPUT_DIR=os.path.join(\\\"run\\\", bert+\\\"_\\\"+task, domain, str(run) )\\n\",\n",
      "/Users/ashmitbhattarai/PycharmProjects/p3/venv/lib/python3.7/site-packages/numpy/core/_methods.py:85: RuntimeWarning: invalid value encountered in double_scalars\n",
      "  ret = ret.dtype.type(ret / rcount)\n"
     ]
    }
   ],
   "source": [
    "tasks=[\"rrc\", \"ae\", \"asc\"]\n",
    "berts=[\"pt\"]\n",
    "domains=[\"laptop\", \"rest\"]\n",
    "runs=10\n",
    "%run eval/eval.ipynb"
   ]
  },
  {
   "cell_type": "code",
   "execution_count": null,
   "metadata": {},
   "outputs": [],
   "source": []
  }
 ],
 "metadata": {
  "kernelspec": {
   "display_name": "Python 3",
   "language": "python",
   "name": "python3"
  },
  "language_info": {
   "codemirror_mode": {
    "name": "ipython",
    "version": 3
   },
   "file_extension": ".py",
   "mimetype": "text/x-python",
   "name": "python",
   "nbconvert_exporter": "python",
   "pygments_lexer": "ipython3",
   "version": "3.7.2"
  }
 },
 "nbformat": 4,
 "nbformat_minor": 2
}
